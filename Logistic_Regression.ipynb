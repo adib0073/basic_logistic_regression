{
  "nbformat": 4,
  "nbformat_minor": 0,
  "metadata": {
    "kernelspec": {
      "display_name": "Python 3",
      "language": "python",
      "name": "python3"
    },
    "language_info": {
      "codemirror_mode": {
        "name": "ipython",
        "version": 3
      },
      "file_extension": ".py",
      "mimetype": "text/x-python",
      "name": "python",
      "nbconvert_exporter": "python",
      "pygments_lexer": "ipython3",
      "version": "3.5.6"
    },
    "colab": {
      "name": "Logistic Regression.ipynb",
      "provenance": []
    }
  },
  "cells": [
    {
      "cell_type": "markdown",
      "metadata": {
        "id": "pyvhUSsCdzEz",
        "colab_type": "text"
      },
      "source": [
        "# Logistic Regression using Python\n",
        "\n",
        "Logistic Regression is one of the most popular supervised learning algorithms used to solve classification problems. This algorithm work particularly well with binary classification problem. But it can solve multi-class problems as well. In this tutorial we will try to solve a multi class problem using Logistic Regression."
      ]
    },
    {
      "cell_type": "markdown",
      "metadata": {
        "id": "Bcz5MsF3dzE1",
        "colab_type": "text"
      },
      "source": [
        "## About the Data\n",
        "#### Digits Dataset\n",
        "**Loading the Dataset**\n",
        "The digits dataset is one of datasets scikit-learn comes with that do not require the downloading of any file from some external website. The code below will load the digits dataset."
      ]
    },
    {
      "cell_type": "code",
      "metadata": {
        "id": "1GeTcSzWdzE2",
        "colab_type": "code",
        "colab": {}
      },
      "source": [
        "from sklearn.datasets import load_digits\n",
        "digits = load_digits()"
      ],
      "execution_count": 0,
      "outputs": []
    },
    {
      "cell_type": "markdown",
      "metadata": {
        "id": "VUGYWNSFdzE9",
        "colab_type": "text"
      },
      "source": [
        "Taking a look at the data. Using print to show that there are 1797 images (8 by 8 images for a dimensionality of 64). Also, print to show there are 1797 labels (integers from 0–9)."
      ]
    },
    {
      "cell_type": "code",
      "metadata": {
        "id": "pLLPCGwYdzE-",
        "colab_type": "code",
        "colab": {
          "base_uri": "https://localhost:8080/",
          "height": 52
        },
        "outputId": "fad1480e-d5cc-4f9c-c0cd-d47404307383"
      },
      "source": [
        "print(' Image Data Shape ', digits.data.shape)\n",
        "\n",
        "print(' Label Data Shape ', digits.target.shape)"
      ],
      "execution_count": 2,
      "outputs": [
        {
          "output_type": "stream",
          "text": [
            " Image Data Shape  (1797, 64)\n",
            " Label Data Shape  (1797,)\n"
          ],
          "name": "stdout"
        }
      ]
    },
    {
      "cell_type": "markdown",
      "metadata": {
        "id": "NM91K9SxdzFD",
        "colab_type": "text"
      },
      "source": [
        "### Using numpy and matplotlib to show the images and corrsponding labels"
      ]
    },
    {
      "cell_type": "code",
      "metadata": {
        "id": "E4-4_n8EdzFE",
        "colab_type": "code",
        "colab": {
          "base_uri": "https://localhost:8080/",
          "height": 52
        },
        "outputId": "fc70fca5-b766-43fc-ea1e-36dac87fb957"
      },
      "source": [
        "import numpy as np \n",
        "import matplotlib.pyplot as plt\n",
        "plt.figure(figsize=(20,4))"
      ],
      "execution_count": 3,
      "outputs": [
        {
          "output_type": "execute_result",
          "data": {
            "text/plain": [
              "<Figure size 1440x288 with 0 Axes>"
            ]
          },
          "metadata": {
            "tags": []
          },
          "execution_count": 3
        },
        {
          "output_type": "display_data",
          "data": {
            "text/plain": [
              "<Figure size 1440x288 with 0 Axes>"
            ]
          },
          "metadata": {
            "tags": []
          }
        }
      ]
    },
    {
      "cell_type": "code",
      "metadata": {
        "id": "VN7zMS56n9kb",
        "colab_type": "code",
        "colab": {
          "base_uri": "https://localhost:8080/",
          "height": 313
        },
        "outputId": "c77752a0-c5c8-46ce-b35b-36e487f06639"
      },
      "source": [
        "# Checking the data distribution\n",
        "distribution = np.unique(digits.target, return_counts=True)\n",
        "plt.bar(distribution[0], distribution[1], color = 'r')\n",
        "plt.ylabel('Count of each digit in the data')\n",
        "plt.xlabel('Digits in the data')\n",
        "plt.title('Data Distribution')"
      ],
      "execution_count": 27,
      "outputs": [
        {
          "output_type": "execute_result",
          "data": {
            "text/plain": [
              "Text(0.5, 1.0, 'Data Distribution')"
            ]
          },
          "metadata": {
            "tags": []
          },
          "execution_count": 27
        },
        {
          "output_type": "display_data",
          "data": {
            "image/png": "[encoded data removed]",
            "text/plain": [
              "<Figure size 432x288 with 1 Axes>"
            ]
          },
          "metadata": {
            "tags": [],
            "needs_background": "light"
          }
        }
      ]
    },
    {
      "cell_type": "code",
      "metadata": {
        "id": "bJhebAhsdzFL",
        "colab_type": "code",
        "colab": {
          "base_uri": "https://localhost:8080/",
          "height": 131
        },
        "outputId": "6832f52b-8720-4bc8-9242-1ecfb89c5583"
      },
      "source": [
        "for index, (image, label) in enumerate(zip(digits.data[0:5], digits.target[0:5])):\n",
        "    plt.subplot(1, 5, index + 1)\n",
        "    plt.imshow(np.reshape(image, (8,8)), cmap=plt.cm.gray)\n",
        "    plt.title('Training: %i\\n' % label, fontsize = 10)\n",
        "    "
      ],
      "execution_count": 4,
      "outputs": [
        {
          "output_type": "display_data",
          "data": {
            "image/png": "[encoded data removed]",
            "text/plain": [
              "<Figure size 432x288 with 5 Axes>"
            ]
          },
          "metadata": {
            "tags": [],
            "needs_background": "light"
          }
        }
      ]
    },
    {
      "cell_type": "markdown",
      "metadata": {
        "id": "tqRhWa5RdzFP",
        "colab_type": "text"
      },
      "source": [
        "### Splitting the data into train and test sets and keeping the split ratio as 75% for training and 25% for testing"
      ]
    },
    {
      "cell_type": "code",
      "metadata": {
        "id": "4JLNySX9dzFP",
        "colab_type": "code",
        "colab": {}
      },
      "source": [
        "from sklearn.model_selection import train_test_split\n",
        "x_train, x_test, y_train, y_test = train_test_split(digits.data, digits.target, test_size=0.25, random_state=0)"
      ],
      "execution_count": 0,
      "outputs": []
    },
    {
      "cell_type": "markdown",
      "metadata": {
        "id": "qsLaDWrddzFT",
        "colab_type": "text"
      },
      "source": [
        "### Scikit-learn 4-steps Modelling Pattern"
      ]
    },
    {
      "cell_type": "markdown",
      "metadata": {
        "id": "LogZJOvrdzFU",
        "colab_type": "text"
      },
      "source": [
        "#### Step 1 : Import the model you want to use\n",
        "For our case we will import the LogisticRegression model"
      ]
    },
    {
      "cell_type": "code",
      "metadata": {
        "id": "E0uKl6RqdzFV",
        "colab_type": "code",
        "colab": {}
      },
      "source": [
        "from sklearn.linear_model import LogisticRegression"
      ],
      "execution_count": 0,
      "outputs": []
    },
    {
      "cell_type": "markdown",
      "metadata": {
        "id": "vlAuHkCGdzFb",
        "colab_type": "text"
      },
      "source": [
        "#### Step 2 : Making an instance of the model\n",
        "For our case, all parameters not specified and are set to their defaults"
      ]
    },
    {
      "cell_type": "code",
      "metadata": {
        "id": "mVAR1rOVdzFc",
        "colab_type": "code",
        "colab": {}
      },
      "source": [
        "model = LogisticRegression()"
      ],
      "execution_count": 0,
      "outputs": []
    },
    {
      "cell_type": "markdown",
      "metadata": {
        "id": "gV0k8nj6dzFf",
        "colab_type": "text"
      },
      "source": [
        "#### Step 3 : Training the selected model on the data, storing the information learned from the data\n",
        "Model is learning the relationship between x (digits) and y (labels)"
      ]
    },
    {
      "cell_type": "code",
      "metadata": {
        "id": "NF-So26mdzFg",
        "colab_type": "code",
        "colab": {
          "base_uri": "https://localhost:8080/",
          "height": 245
        },
        "outputId": "78d9083c-be96-494c-cd19-7a2b7bc1bf37"
      },
      "source": [
        "model.fit(x_train, y_train)"
      ],
      "execution_count": 8,
      "outputs": [
        {
          "output_type": "stream",
          "text": [
            "/usr/local/lib/python3.6/dist-packages/sklearn/linear_model/_logistic.py:940: ConvergenceWarning: lbfgs failed to converge (status=1):\n",
            "STOP: TOTAL NO. of ITERATIONS REACHED LIMIT.\n",
            "\n",
            "Increase the number of iterations (max_iter) or scale the data as shown in:\n",
            "    https://scikit-learn.org/stable/modules/preprocessing.html\n",
            "Please also refer to the documentation for alternative solver options:\n",
            "    https://scikit-learn.org/stable/modules/linear_model.html#logistic-regression\n",
            "  extra_warning_msg=_LOGISTIC_SOLVER_CONVERGENCE_MSG)\n"
          ],
          "name": "stderr"
        },
        {
          "output_type": "execute_result",
          "data": {
            "text/plain": [
              "LogisticRegression(C=1.0, class_weight=None, dual=False, fit_intercept=True,\n",
              "                   intercept_scaling=1, l1_ratio=None, max_iter=100,\n",
              "                   multi_class='auto', n_jobs=None, penalty='l2',\n",
              "                   random_state=None, solver='lbfgs', tol=0.0001, verbose=0,\n",
              "                   warm_start=False)"
            ]
          },
          "metadata": {
            "tags": []
          },
          "execution_count": 8
        }
      ]
    },
    {
      "cell_type": "markdown",
      "metadata": {
        "id": "-9llbBFUdzFk",
        "colab_type": "text"
      },
      "source": [
        "#### Step 4 : Predict the labels of new data-set (new images)\n",
        "Uses the information the model learned during the model training process"
      ]
    },
    {
      "cell_type": "code",
      "metadata": {
        "id": "PMU2weUXdzFk",
        "colab_type": "code",
        "colab": {
          "base_uri": "https://localhost:8080/",
          "height": 34
        },
        "outputId": "f21ba4ec-3db3-4bbd-f0b8-f0db6b325623"
      },
      "source": [
        "# Predict for One Observation (image)\n",
        "model.predict(x_test[0].reshape(1,-1))"
      ],
      "execution_count": 9,
      "outputs": [
        {
          "output_type": "execute_result",
          "data": {
            "text/plain": [
              "array([2])"
            ]
          },
          "metadata": {
            "tags": []
          },
          "execution_count": 9
        }
      ]
    },
    {
      "cell_type": "code",
      "metadata": {
        "id": "9r1TCoGAdzFo",
        "colab_type": "code",
        "colab": {
          "base_uri": "https://localhost:8080/",
          "height": 34
        },
        "outputId": "f42db06b-b4ff-4829-bc5f-e53548349014"
      },
      "source": [
        "# Predict for Multiple Observations (images) at Once\n",
        "model.predict(x_test[0:10])"
      ],
      "execution_count": 10,
      "outputs": [
        {
          "output_type": "execute_result",
          "data": {
            "text/plain": [
              "array([2, 8, 2, 6, 6, 7, 1, 9, 8, 5])"
            ]
          },
          "metadata": {
            "tags": []
          },
          "execution_count": 10
        }
      ]
    },
    {
      "cell_type": "code",
      "metadata": {
        "id": "yqBia1LudzFt",
        "colab_type": "code",
        "colab": {}
      },
      "source": [
        "# Store all predictions in one variable for the testing data-set\n",
        "predictions = model.predict(x_test)"
      ],
      "execution_count": 0,
      "outputs": []
    },
    {
      "cell_type": "markdown",
      "metadata": {
        "id": "4GpTVvRBdzFw",
        "colab_type": "text"
      },
      "source": [
        "### Model Evaluation Metrics"
      ]
    },
    {
      "cell_type": "markdown",
      "metadata": {
        "id": "hOT6i0MhdzFx",
        "colab_type": "text"
      },
      "source": [
        "During the lecture, we have talked about primarily the following evaluation parameters to test the performance of the model on the data-set selected:\n",
        "1. Accuracy\n",
        "2. Confusion Matrix\n",
        "3. Precision\n",
        "4. Recall\n",
        "5. AUC\n",
        "6. F1-score\n",
        "\n",
        "Here, we will go through each of these parameters and we will ecavluate our model performance using these."
      ]
    },
    {
      "cell_type": "markdown",
      "metadata": {
        "id": "ZHflgl1DdzFy",
        "colab_type": "text"
      },
      "source": [
        "#### Accuracy - Defined as rate of correct prediction"
      ]
    },
    {
      "cell_type": "code",
      "metadata": {
        "id": "m_mx5PYhdzFy",
        "colab_type": "code",
        "colab": {
          "base_uri": "https://localhost:8080/",
          "height": 34
        },
        "outputId": "ecc6371f-3819-4b52-e291-c5c754b6cbeb"
      },
      "source": [
        "from sklearn import metrics\n",
        "\n",
        "accuracy = metrics.accuracy_score(y_test, predictions)\n",
        "print('Accuracy is:',accuracy)"
      ],
      "execution_count": 12,
      "outputs": [
        {
          "output_type": "stream",
          "text": [
            "Accuracy is: 0.9511111111111111\n"
          ],
          "name": "stdout"
        }
      ]
    },
    {
      "cell_type": "markdown",
      "metadata": {
        "id": "ArmakOCAdzF2",
        "colab_type": "text"
      },
      "source": [
        "#### Confusion Matrix - Defined as the summary of prediction results on a classification problem."
      ]
    },
    {
      "cell_type": "code",
      "metadata": {
        "id": "rWNq4TIVdzF2",
        "colab_type": "code",
        "colab": {
          "base_uri": "https://localhost:8080/",
          "height": 248
        },
        "outputId": "645b355b-bd10-47d4-8041-b75322dfaa5f"
      },
      "source": [
        "import matplotlib.pyplot as plt\n",
        "import seaborn as sns\n",
        "from sklearn import metrics\n",
        "cm = metrics.confusion_matrix(y_test, predictions)\n",
        "print(cm)"
      ],
      "execution_count": 13,
      "outputs": [
        {
          "output_type": "stream",
          "text": [
            "[[37  0  0  0  0  0  0  0  0  0]\n",
            " [ 0 40  0  0  0  0  0  0  2  1]\n",
            " [ 0  1 40  3  0  0  0  0  0  0]\n",
            " [ 0  0  0 43  0  0  0  0  1  1]\n",
            " [ 0  0  0  0 37  0  0  1  0  0]\n",
            " [ 0  0  0  0  0 46  0  0  0  2]\n",
            " [ 0  1  0  0  0  0 51  0  0  0]\n",
            " [ 0  0  0  1  1  0  0 46  0  0]\n",
            " [ 0  3  1  0  0  0  0  0 43  1]\n",
            " [ 0  0  0  0  0  1  0  0  1 45]]\n"
          ],
          "name": "stdout"
        },
        {
          "output_type": "stream",
          "text": [
            "/usr/local/lib/python3.6/dist-packages/statsmodels/tools/_testing.py:19: FutureWarning: pandas.util.testing is deprecated. Use the functions in the public API at pandas.testing instead.\n",
            "  import pandas.util.testing as tm\n"
          ],
          "name": "stderr"
        }
      ]
    },
    {
      "cell_type": "code",
      "metadata": {
        "id": "buFHEkZsdzF6",
        "colab_type": "code",
        "colab": {
          "base_uri": "https://localhost:8080/",
          "height": 526
        },
        "outputId": "5205d5fc-9a5a-4a31-f277-a3eef5d62515"
      },
      "source": [
        "plt.figure(figsize=(9,9))\n",
        "sns.heatmap(cm, annot=True, fmt=\".3f\", linewidths=.5, square = True, cmap = 'Blues_r');\n",
        "plt.ylabel('Actual label');\n",
        "plt.xlabel('Predicted label');\n",
        "all_sample_title = 'Accuracy Score: {0}'.format(accuracy)\n",
        "plt.title(all_sample_title, size = 15);"
      ],
      "execution_count": 19,
      "outputs": [
        {
          "output_type": "display_data",
          "data": {
            "image/png": "[encoded data removed]",
            "text/plain": [
              "<Figure size 648x648 with 2 Axes>"
            ]
          },
          "metadata": {
            "tags": [],
            "needs_background": "light"
          }
        }
      ]
    },
    {
      "cell_type": "markdown",
      "metadata": {
        "id": "0IzMD4rddzF-",
        "colab_type": "text"
      },
      "source": [
        "#### Precision - Ratio of correctly positive case to total predicted positive"
      ]
    },
    {
      "cell_type": "code",
      "metadata": {
        "id": "VHr4om0UdzF_",
        "colab_type": "code",
        "colab": {
          "base_uri": "https://localhost:8080/",
          "height": 34
        },
        "outputId": "8eeb67e2-6212-41b2-f40c-4b82e967a60d"
      },
      "source": [
        "from sklearn import metrics\n",
        "\n",
        "# For precision of each class individually use average= None\n",
        "precision = metrics.precision_score(y_test, predictions, average='macro')\n",
        "print('Precision is:',precision)"
      ],
      "execution_count": 15,
      "outputs": [
        {
          "output_type": "stream",
          "text": [
            "Precision is: 0.9525416898065957\n"
          ],
          "name": "stdout"
        }
      ]
    },
    {
      "cell_type": "markdown",
      "metadata": {
        "id": "_KQtkL4IdzGD",
        "colab_type": "text"
      },
      "source": [
        "#### Recall - Ratio of the total number of correctly classified positive examples divide to the total number of positive examples"
      ]
    },
    {
      "cell_type": "code",
      "metadata": {
        "id": "nUuFJd8sdzGD",
        "colab_type": "code",
        "colab": {
          "base_uri": "https://localhost:8080/",
          "height": 34
        },
        "outputId": "629e07cb-3cf9-4f16-ce8a-fa85e6ff1436"
      },
      "source": [
        "from sklearn import metrics\n",
        "\n",
        "# For recall of each class individually use average= None\n",
        "recall = metrics.recall_score(y_test, predictions, average='macro')\n",
        "print('Recall is:',recall)"
      ],
      "execution_count": 16,
      "outputs": [
        {
          "output_type": "stream",
          "text": [
            "Recall is: 0.9519279272592186\n"
          ],
          "name": "stdout"
        }
      ]
    },
    {
      "cell_type": "markdown",
      "metadata": {
        "id": "B_TfXM01dzGI",
        "colab_type": "text"
      },
      "source": [
        "#### AUC - AUC provides an aggregate measure of performance across all possible classification thresholds"
      ]
    },
    {
      "cell_type": "code",
      "metadata": {
        "id": "m8RAi5UMdzGI",
        "colab_type": "code",
        "colab": {
          "base_uri": "https://localhost:8080/",
          "height": 34
        },
        "outputId": "520a538f-b509-4f96-d309-150d66999ba6"
      },
      "source": [
        "from sklearn import metrics\n",
        "from sklearn.preprocessing import LabelBinarizer\n",
        "def multiclass_roc_auc_score(y_test, y_pred, average=\"macro\"):\n",
        "        lb = LabelBinarizer()\n",
        "        lb.fit(y_test)\n",
        "        y_test = lb.transform(y_test)\n",
        "        y_pred = lb.transform(y_pred)\n",
        "        return metrics.roc_auc_score(y_test, y_pred, average=average)\n",
        "auc_score = multiclass_roc_auc_score(y_test, predictions)\n",
        "print('AUC score is:', auc_score)"
      ],
      "execution_count": 17,
      "outputs": [
        {
          "output_type": "stream",
          "text": [
            "AUC score is: 0.9732447578709469\n"
          ],
          "name": "stdout"
        }
      ]
    },
    {
      "cell_type": "markdown",
      "metadata": {
        "id": "OBlckdoGdzGL",
        "colab_type": "text"
      },
      "source": [
        "#### F1 – Score : It is measure of giving certain weightage to precision and recall values"
      ]
    },
    {
      "cell_type": "code",
      "metadata": {
        "id": "YsNEsbw4dzGM",
        "colab_type": "code",
        "colab": {
          "base_uri": "https://localhost:8080/",
          "height": 34
        },
        "outputId": "0b5848c7-54ab-47b9-f1a9-d3564c8c7996"
      },
      "source": [
        "from sklearn import metrics\n",
        "\n",
        "# For recall of each class individually use average= None\n",
        "f1_score_value = metrics.f1_score(y_test, predictions, average='macro')\n",
        "print('F1 Score is:',f1_score_value)"
      ],
      "execution_count": 18,
      "outputs": [
        {
          "output_type": "stream",
          "text": [
            "F1 Score is: 0.9518965775741322\n"
          ],
          "name": "stdout"
        }
      ]
    },
    {
      "cell_type": "code",
      "metadata": {
        "id": "QntGuWwYdzGP",
        "colab_type": "code",
        "colab": {}
      },
      "source": [
        ""
      ],
      "execution_count": 0,
      "outputs": []
    }
  ]
}